{
 "cells": [
  {
   "cell_type": "markdown",
   "metadata": {},
   "source": [
    "#### Exercise 1 - Class Inheritance"
   ]
  },
  {
   "cell_type": "markdown",
   "metadata": {},
   "source": [
    "Create an Employee class that sets an employee's first name, last name, job title, salary, and email. The Employee class should have a class attribute for the raise amount set to 5% (1.05). Create a method that will apply the raise to an employee's salary."
   ]
  },
  {
   "cell_type": "code",
   "execution_count": 1,
   "metadata": {},
   "outputs": [
    {
     "name": "stdout",
     "output_type": "stream",
     "text": [
      "This is Jake Glyph. Who is a Agent and makes 50000 every year and his email is JakeGlyph@gmail.com\n"
     ]
    }
   ],
   "source": [
    "# Write the Employee Parent Class Here\n",
    "\n",
    "class Employee:\n",
    "    \n",
    "\n",
    "    \n",
    "    def __init__(self,first,last,job_title,salary,email):\n",
    "        self.first = first\n",
    "        self.last = last\n",
    "        self.job = job_title\n",
    "        self.salary = salary\n",
    "        self.email = email\n",
    "        self.amount_raised = 1.05\n",
    "        \n",
    "    def __str__(self):\n",
    "        return f\"This is {self.first} {self.last}. Who is a {self.job} and makes {self.salary} every year and his email is {self.email}\"\n",
    "    \n",
    "    def r(self):\n",
    "        self.salary = float(\"{0:.2f}\".format(self.salary*self.amount_raised))\n",
    "    \n",
    "    def __repr__(self):\n",
    "        return f\"<? Employee | {self.first} {self.last}?>\"\n",
    "        \n",
    "        \n",
    "e1 = Employee(\"Jake\",\"Glyph\", \"Agent\",50000,\"JakeGlyph@gmail.com\")\n",
    "e2 = Employee(\"Jay\",\"Z\", \"Rapper\",10000000,\"JayZ@gmail.com\")\n",
    "e3 = Employee(\"Justin\",\"Timberlake\", \"Singer\",7500000,\"JustinTimberlake@gmail.com\")\n",
    "e4 = Employee(\"Austin\",\"Reaves\", \"Basketball Player\",25000000,\"AustinReaves@gmail.com\")\n",
    "list1 = [e1,e2,e3,e4]\n",
    "print(e1)"
   ]
  },
  {
   "cell_type": "code",
   "execution_count": 2,
   "metadata": {},
   "outputs": [
    {
     "name": "stdout",
     "output_type": "stream",
     "text": [
      "This is Jake Glyph. Who is a Agent and makes 50000 every year and his email is JakeGlyph@gmail.com\n",
      "This is Jay Z. Who is a Rapper and makes 10000000 every year and his email is JayZ@gmail.com\n",
      "This is Justin Timberlake. Who is a Singer and makes 7500000 every year and his email is JustinTimberlake@gmail.com\n",
      "This is Austin Reaves. Who is a Basketball Player and makes 25000000 every year and his email is AustinReaves@gmail.com\n"
     ]
    }
   ],
   "source": [
    "for element in list1:\n",
    "    print(element)"
   ]
  },
  {
   "cell_type": "code",
   "execution_count": 3,
   "metadata": {},
   "outputs": [
    {
     "name": "stdout",
     "output_type": "stream",
     "text": [
      "7875000.0\n"
     ]
    }
   ],
   "source": [
    "e3.r()\n",
    "print(e3.salary)"
   ]
  },
  {
   "cell_type": "code",
   "execution_count": 4,
   "metadata": {},
   "outputs": [
    {
     "data": {
      "text/plain": [
       "<? Employee | Jake Glyph?>"
      ]
     },
     "execution_count": 4,
     "metadata": {},
     "output_type": "execute_result"
    }
   ],
   "source": [
    "e1"
   ]
  },
  {
   "cell_type": "markdown",
   "metadata": {},
   "source": [
    "Create two more classes that inherit from the Employee class. One for Sales and one for Development. Both of these classes will have the same attributes as the Employee.<br>\n",
    "- For the Sales employees, add a phone number attribute on instantiation using the super method. \n",
    "- Create a method on the Sales class that will \"Send a Follow Up Email\". It should take in a customer name and \"send\" aka print a formatted email \"Dear *customer*, Thank you for your interest in our product. Please let me know if you have any questions. My email is *email* or my phone number is *phone number*. Thanks, *full name*\"\n",
    "- Create a method on the Development class called code that will print out \"*full name* is writing code\"."
   ]
  },
  {
   "cell_type": "code",
   "execution_count": 6,
   "metadata": {},
   "outputs": [
    {
     "ename": "NameError",
     "evalue": "name 'Sales' is not defined",
     "output_type": "error",
     "traceback": [
      "\u001b[0;31m---------------------------------------------------------------------------\u001b[0m",
      "\u001b[0;31mNameError\u001b[0m                                 Traceback (most recent call last)",
      "\u001b[1;32m/Users/javansmalls/Desktop/Kekambas_137/week3/Exercise_OOP/Exercises.ipynb Cell 8\u001b[0m line \u001b[0;36m3\n\u001b[1;32m      <a href='vscode-notebook-cell:/Users/javansmalls/Desktop/Kekambas_137/week3/Exercise_OOP/Exercises.ipynb#W4sZmlsZQ%3D%3D?line=0'>1</a>\u001b[0m \u001b[39m# Write the Sales child Class Here\u001b[39;00m\n\u001b[0;32m----> <a href='vscode-notebook-cell:/Users/javansmalls/Desktop/Kekambas_137/week3/Exercise_OOP/Exercises.ipynb#W4sZmlsZQ%3D%3D?line=2'>3</a>\u001b[0m \u001b[39mclass\u001b[39;00m \u001b[39mSales\u001b[39;00m(Employee):\n\u001b[1;32m      <a href='vscode-notebook-cell:/Users/javansmalls/Desktop/Kekambas_137/week3/Exercise_OOP/Exercises.ipynb#W4sZmlsZQ%3D%3D?line=3'>4</a>\u001b[0m     \u001b[39mdef\u001b[39;00m \u001b[39m__init__\u001b[39m(\u001b[39mself\u001b[39m,first,last,job_title,salary,email,phone_number):\n\u001b[1;32m      <a href='vscode-notebook-cell:/Users/javansmalls/Desktop/Kekambas_137/week3/Exercise_OOP/Exercises.ipynb#W4sZmlsZQ%3D%3D?line=4'>5</a>\u001b[0m         \u001b[39msuper\u001b[39m()\u001b[39m.\u001b[39m\u001b[39m__init__\u001b[39m(first, last, job_title,salary,email)\n",
      "\u001b[1;32m/Users/javansmalls/Desktop/Kekambas_137/week3/Exercise_OOP/Exercises.ipynb Cell 8\u001b[0m line \u001b[0;36m1\n\u001b[1;32m     <a href='vscode-notebook-cell:/Users/javansmalls/Desktop/Kekambas_137/week3/Exercise_OOP/Exercises.ipynb#W4sZmlsZQ%3D%3D?line=9'>10</a>\u001b[0m     \u001b[39mprint\u001b[39m(\u001b[39m\"\u001b[39m\u001b[39mFollow up Email\u001b[39m\u001b[39m\"\u001b[39m)\n\u001b[1;32m     <a href='vscode-notebook-cell:/Users/javansmalls/Desktop/Kekambas_137/week3/Exercise_OOP/Exercises.ipynb#W4sZmlsZQ%3D%3D?line=10'>11</a>\u001b[0m     \u001b[39mreturn\u001b[39;00m \u001b[39mf\u001b[39m\u001b[39m\"\u001b[39m\u001b[39mDear \u001b[39m\u001b[39m{\u001b[39;00m\u001b[39mself\u001b[39m\u001b[39m.\u001b[39mfirst\u001b[39m}\u001b[39;00m\u001b[39m \u001b[39m\u001b[39m{\u001b[39;00m\u001b[39mself\u001b[39m\u001b[39m.\u001b[39mlast\u001b[39m}\u001b[39;00m\u001b[39m , Thank you for your interest in our product. Please let me know if you have any questions. My email is \u001b[39m\u001b[39m{\u001b[39;00m\u001b[39mself\u001b[39m\u001b[39m.\u001b[39memail\u001b[39m}\u001b[39;00m\u001b[39m or my phone number is \u001b[39m\u001b[39m{\u001b[39;00m\u001b[39mself\u001b[39m\u001b[39m.\u001b[39mphone_number\u001b[39m}\u001b[39;00m\u001b[39m. Thanks, Javan Smalls\u001b[39m\u001b[39m\"\u001b[39m\n\u001b[0;32m---> <a href='vscode-notebook-cell:/Users/javansmalls/Desktop/Kekambas_137/week3/Exercise_OOP/Exercises.ipynb#W4sZmlsZQ%3D%3D?line=12'>13</a>\u001b[0m javan \u001b[39m=\u001b[39m Sales(\u001b[39m\"\u001b[39m\u001b[39mJavan\u001b[39m\u001b[39m\"\u001b[39m,\u001b[39m\"\u001b[39m\u001b[39mSmalls\u001b[39m\u001b[39m\"\u001b[39m,\u001b[39m\"\u001b[39m\u001b[39mCoder\u001b[39m\u001b[39m\"\u001b[39m,\u001b[39m.25\u001b[39m,\u001b[39m\"\u001b[39m\u001b[39mJavansmalls@gmail.com\u001b[39m\u001b[39m\"\u001b[39m,\u001b[39m4042232255\u001b[39m)\n",
      "\u001b[0;31mNameError\u001b[0m: name 'Sales' is not defined"
     ]
    }
   ],
   "source": [
    "# Write the Sales child Class Here\n",
    "\n",
    "class Sales(Employee):\n",
    "    def __init__(self,first,last,job_title,salary,email,phone_number):\n",
    "        super().__init__(first, last, job_title,salary,email)\n",
    "        self.phone_number = phone_number\n",
    "        \n",
    "    def __str__(self):\n",
    "        \n",
    "        print(\"Follow up Email\")\n",
    "        return f\"Dear {self.first} {self.last} , Thank you for your interest in our product. Please let me know if you have any questions. My email is {self.email} or my phone number is {self.phone_number}. Thanks, Javan Smalls\"\n",
    "        \n",
    "\n",
    "\n",
    "\n",
    "# Write the Development child Class Here\n",
    "class Development(Employee):\n",
    "    def __init__(self,first,last,job_title,salary,email,phone_number):\n",
    "        super().__init__(first, last, job_title,salary,email)\n",
    "        \n",
    "    def code(self):\n",
    "        print(f\"{self.first} {self.last} is writing code.\")\n",
    "\n",
    "    yee = Development(\"Javan\",\"Smalls\",\"Coder\",.25,\"Javansmalls@gmail.com\",4042232255)\n",
    "\n",
    "\n",
    "    # +++++++++++++++++++++++++++++++++++++++++++++++++++++++++++++++++++++++++++++++++\n",
    "    # I Dont understand why sales is not defined. It worked in jupyter but did not work in visual studio code. Sales is obviously defined above by class.\n"
   ]
  },
  {
   "cell_type": "code",
   "execution_count": null,
   "metadata": {},
   "outputs": [],
   "source": []
  },
  {
   "cell_type": "markdown",
   "metadata": {},
   "source": [
    "- Create an instance of a Sales Employee with a salary of $50,000.\n",
    "- Send follow up emails to \"Mike O'Neil\" and \"Hannah Stern\"\n",
    "- Give the employee a raise and print the salary"
   ]
  },
  {
   "cell_type": "code",
   "execution_count": 8,
   "metadata": {},
   "outputs": [
    {
     "name": "stdout",
     "output_type": "stream",
     "text": [
      "This is Jake Glyph. Who is a Agent and makes 50000 every year and his email is JakeGlyph@gmail.com\n"
     ]
    }
   ],
   "source": [
    "# Create the instance\n",
    "print(e1)"
   ]
  },
  {
   "cell_type": "code",
   "execution_count": 9,
   "metadata": {},
   "outputs": [
    {
     "ename": "NameError",
     "evalue": "name 'Sales' is not defined",
     "output_type": "error",
     "traceback": [
      "\u001b[0;31m---------------------------------------------------------------------------\u001b[0m",
      "\u001b[0;31mNameError\u001b[0m                                 Traceback (most recent call last)",
      "\u001b[1;32m/Users/javansmalls/Desktop/Kekambas_137/week3/Exercise_OOP/Exercises.ipynb Cell 12\u001b[0m line \u001b[0;36m2\n\u001b[1;32m      <a href='vscode-notebook-cell:/Users/javansmalls/Desktop/Kekambas_137/week3/Exercise_OOP/Exercises.ipynb#X10sZmlsZQ%3D%3D?line=0'>1</a>\u001b[0m \u001b[39m# Send follow up to Mike\u001b[39;00m\n\u001b[0;32m----> <a href='vscode-notebook-cell:/Users/javansmalls/Desktop/Kekambas_137/week3/Exercise_OOP/Exercises.ipynb#X10sZmlsZQ%3D%3D?line=1'>2</a>\u001b[0m mike \u001b[39m=\u001b[39m Sales(\u001b[39m\"\u001b[39m\u001b[39mMike\u001b[39m\u001b[39m\"\u001b[39m,\u001b[39m\"\u001b[39m\u001b[39mO\u001b[39m\u001b[39m'\u001b[39m\u001b[39mNeil\u001b[39m\u001b[39m\"\u001b[39m,\u001b[39m\"\u001b[39m\u001b[39mDirector\u001b[39m\u001b[39m\"\u001b[39m,\u001b[39m50000\u001b[39m,\u001b[39m\"\u001b[39m\u001b[39mJavansmalls@gmail.com\u001b[39m\u001b[39m\"\u001b[39m,\u001b[39m4042232255\u001b[39m)\n\u001b[1;32m      <a href='vscode-notebook-cell:/Users/javansmalls/Desktop/Kekambas_137/week3/Exercise_OOP/Exercises.ipynb#X10sZmlsZQ%3D%3D?line=3'>4</a>\u001b[0m \u001b[39mprint\u001b[39m(mike)\n",
      "\u001b[0;31mNameError\u001b[0m: name 'Sales' is not defined"
     ]
    }
   ],
   "source": [
    "# Send follow up to Mike\n",
    "mike = Sales(\"Mike\",\"O'Neil\",\"Director\",50000,\"Javansmalls@gmail.com\",4042232255)\n",
    "\n",
    "print(mike)"
   ]
  },
  {
   "cell_type": "code",
   "execution_count": null,
   "metadata": {},
   "outputs": [],
   "source": [
    "# Send follow up to Hannah\n",
    "Hannah = Sales(\"Hannah\",\"Stern\",\"Actor\",50000,\"Javansmalls@gmail.com\",4042232255)\n",
    "\n",
    "print(Hannah)"
   ]
  },
  {
   "cell_type": "code",
   "execution_count": null,
   "metadata": {},
   "outputs": [],
   "source": [
    "# Give the sales employee a raise\n",
    "print(e1)\n",
    "e1.r()\n",
    "print(e1.salary)"
   ]
  },
  {
   "cell_type": "markdown",
   "metadata": {},
   "source": [
    "- Create an instance of a Development Employee with a salary of $100,000\n",
    "- Write some code with this employee\n",
    "- Give the employee a raise and print the salary"
   ]
  },
  {
   "cell_type": "code",
   "execution_count": null,
   "metadata": {},
   "outputs": [],
   "source": [
    "# Create the instance\n",
    "ump = Development(\"Kanye\",\"west\",\"Rapper\",1500000,\"Kanyewest@gmail.com\",67865465432)\n",
    "\n",
    "print(ump)"
   ]
  },
  {
   "cell_type": "code",
   "execution_count": null,
   "metadata": {},
   "outputs": [],
   "source": [
    "# Write some code (call code method)\n",
    "ump.code()"
   ]
  },
  {
   "cell_type": "code",
   "execution_count": null,
   "metadata": {},
   "outputs": [],
   "source": [
    "# Give the dev employee a raise\n",
    "ump.r()\n",
    "print(ump.salary)"
   ]
  },
  {
   "cell_type": "markdown",
   "metadata": {},
   "source": [
    "#### Exercise 2 - Importing Modules"
   ]
  },
  {
   "cell_type": "markdown",
   "metadata": {},
   "source": [
    "In VS Code, create a module titled `geometry` and add two functions in there. One that will calculate the area of a circle given a radius. The second will find the hypotenuse of a right angle given the two sides. Import the module or the functions from the module and use it to find the answers to the below questions"
   ]
  },
  {
   "cell_type": "markdown",
   "metadata": {},
   "source": [
    "What is the area of a circle with a radius of 7cm?"
   ]
  },
  {
   "cell_type": "code",
   "execution_count": null,
   "metadata": {},
   "outputs": [],
   "source": []
  },
  {
   "cell_type": "markdown",
   "metadata": {},
   "source": [
    "What is the hypotenuse of a right angle with sides of 3in and 4in?"
   ]
  },
  {
   "cell_type": "code",
   "execution_count": null,
   "metadata": {},
   "outputs": [],
   "source": []
  }
 ],
 "metadata": {
  "kernelspec": {
   "display_name": "Python 3 (ipykernel)",
   "language": "python",
   "name": "python3"
  },
  "language_info": {
   "codemirror_mode": {
    "name": "ipython",
    "version": 3
   },
   "file_extension": ".py",
   "mimetype": "text/x-python",
   "name": "python",
   "nbconvert_exporter": "python",
   "pygments_lexer": "ipython3",
   "version": "3.9.18"
  }
 },
 "nbformat": 4,
 "nbformat_minor": 4
}
